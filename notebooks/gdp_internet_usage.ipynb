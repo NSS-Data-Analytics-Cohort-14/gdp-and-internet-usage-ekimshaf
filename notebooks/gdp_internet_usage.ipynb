{
 "cells": [
  {
   "cell_type": "markdown",
   "id": "804ac698-1c61-4830-975d-38d417013034",
   "metadata": {},
   "source": [
    "## This is a example of how you will be doing projects in python.\n",
    "### Use markdown cells -OR- comments in cells to place AT LEAST the question number you are working on. "
   ]
  },
  {
   "cell_type": "markdown",
   "id": "90123210-b670-4d62-bbda-010eeac5dba5",
   "metadata": {},
   "source": [
    "3.\tImport the required packages"
   ]
  },
  {
   "cell_type": "code",
   "execution_count": 3,
   "id": "297b1e92-5e76-4e59-8085-d1ac23ff1c4f",
   "metadata": {},
   "outputs": [],
   "source": [
    "import pandas as pd\n",
    "import numpy as np\n",
    "import matplotlib.pyplot as plt\n",
    "import seaborn as sns"
   ]
  },
  {
   "cell_type": "markdown",
   "id": "3f81942c-9dbe-43e8-90fa-ba3e6be8389a",
   "metadata": {},
   "source": [
    "4. Using the pandas `read_csv()` method, read the GDP dataset into your notebook as a DataFrame called `gdp_df`. Take a look at the first few and last few rows to familiarize yourself with what is contained in this dataset."
   ]
  },
  {
   "cell_type": "code",
   "execution_count": 5,
   "id": "9258fe6d-6afa-462f-8197-c484f97cf4c7",
   "metadata": {},
   "outputs": [],
   "source": [
    "gdp_df = pd.read_csv('../data/gdp_percapita.csv')"
   ]
  },
  {
   "cell_type": "code",
   "execution_count": 6,
   "id": "4ab11e57-cc47-44a4-937b-a6fbd8399044",
   "metadata": {},
   "outputs": [
    {
     "data": {
      "text/html": [
       "<div>\n",
       "<style scoped>\n",
       "    .dataframe tbody tr th:only-of-type {\n",
       "        vertical-align: middle;\n",
       "    }\n",
       "\n",
       "    .dataframe tbody tr th {\n",
       "        vertical-align: top;\n",
       "    }\n",
       "\n",
       "    .dataframe thead th {\n",
       "        text-align: right;\n",
       "    }\n",
       "</style>\n",
       "<table border=\"1\" class=\"dataframe\">\n",
       "  <thead>\n",
       "    <tr style=\"text-align: right;\">\n",
       "      <th></th>\n",
       "      <th>Country or Area</th>\n",
       "      <th>Year</th>\n",
       "      <th>Value</th>\n",
       "      <th>Value Footnotes</th>\n",
       "    </tr>\n",
       "  </thead>\n",
       "  <tbody>\n",
       "    <tr>\n",
       "      <th>0</th>\n",
       "      <td>Afghanistan</td>\n",
       "      <td>2023</td>\n",
       "      <td>1992.424394</td>\n",
       "      <td>NaN</td>\n",
       "    </tr>\n",
       "    <tr>\n",
       "      <th>1</th>\n",
       "      <td>Afghanistan</td>\n",
       "      <td>2022</td>\n",
       "      <td>1981.710168</td>\n",
       "      <td>NaN</td>\n",
       "    </tr>\n",
       "    <tr>\n",
       "      <th>2</th>\n",
       "      <td>Afghanistan</td>\n",
       "      <td>2021</td>\n",
       "      <td>2144.166570</td>\n",
       "      <td>NaN</td>\n",
       "    </tr>\n",
       "    <tr>\n",
       "      <th>3</th>\n",
       "      <td>Afghanistan</td>\n",
       "      <td>2020</td>\n",
       "      <td>2769.685745</td>\n",
       "      <td>NaN</td>\n",
       "    </tr>\n",
       "    <tr>\n",
       "      <th>4</th>\n",
       "      <td>Afghanistan</td>\n",
       "      <td>2019</td>\n",
       "      <td>2927.245144</td>\n",
       "      <td>NaN</td>\n",
       "    </tr>\n",
       "  </tbody>\n",
       "</table>\n",
       "</div>"
      ],
      "text/plain": [
       "  Country or Area  Year        Value  Value Footnotes\n",
       "0     Afghanistan  2023  1992.424394              NaN\n",
       "1     Afghanistan  2022  1981.710168              NaN\n",
       "2     Afghanistan  2021  2144.166570              NaN\n",
       "3     Afghanistan  2020  2769.685745              NaN\n",
       "4     Afghanistan  2019  2927.245144              NaN"
      ]
     },
     "execution_count": 6,
     "metadata": {},
     "output_type": "execute_result"
    }
   ],
   "source": [
    "gdp_df.head()"
   ]
  },
  {
   "cell_type": "code",
   "execution_count": 7,
   "id": "aa656684-fd6a-4fa3-8e93-18f2a94189c3",
   "metadata": {},
   "outputs": [
    {
     "data": {
      "text/html": [
       "<div>\n",
       "<style scoped>\n",
       "    .dataframe tbody tr th:only-of-type {\n",
       "        vertical-align: middle;\n",
       "    }\n",
       "\n",
       "    .dataframe tbody tr th {\n",
       "        vertical-align: top;\n",
       "    }\n",
       "\n",
       "    .dataframe thead th {\n",
       "        text-align: right;\n",
       "    }\n",
       "</style>\n",
       "<table border=\"1\" class=\"dataframe\">\n",
       "  <thead>\n",
       "    <tr style=\"text-align: right;\">\n",
       "      <th></th>\n",
       "      <th>Country or Area</th>\n",
       "      <th>Year</th>\n",
       "      <th>Value</th>\n",
       "      <th>Value Footnotes</th>\n",
       "    </tr>\n",
       "  </thead>\n",
       "  <tbody>\n",
       "    <tr>\n",
       "      <th>8214</th>\n",
       "      <td>Zimbabwe</td>\n",
       "      <td>1994</td>\n",
       "      <td>3965.730986</td>\n",
       "      <td>NaN</td>\n",
       "    </tr>\n",
       "    <tr>\n",
       "      <th>8215</th>\n",
       "      <td>Zimbabwe</td>\n",
       "      <td>1993</td>\n",
       "      <td>3634.750494</td>\n",
       "      <td>NaN</td>\n",
       "    </tr>\n",
       "    <tr>\n",
       "      <th>8216</th>\n",
       "      <td>Zimbabwe</td>\n",
       "      <td>1992</td>\n",
       "      <td>3649.891947</td>\n",
       "      <td>NaN</td>\n",
       "    </tr>\n",
       "    <tr>\n",
       "      <th>8217</th>\n",
       "      <td>Zimbabwe</td>\n",
       "      <td>1991</td>\n",
       "      <td>4126.405247</td>\n",
       "      <td>NaN</td>\n",
       "    </tr>\n",
       "    <tr>\n",
       "      <th>8218</th>\n",
       "      <td>Zimbabwe</td>\n",
       "      <td>1990</td>\n",
       "      <td>4013.299059</td>\n",
       "      <td>NaN</td>\n",
       "    </tr>\n",
       "  </tbody>\n",
       "</table>\n",
       "</div>"
      ],
      "text/plain": [
       "     Country or Area  Year        Value  Value Footnotes\n",
       "8214        Zimbabwe  1994  3965.730986              NaN\n",
       "8215        Zimbabwe  1993  3634.750494              NaN\n",
       "8216        Zimbabwe  1992  3649.891947              NaN\n",
       "8217        Zimbabwe  1991  4126.405247              NaN\n",
       "8218        Zimbabwe  1990  4013.299059              NaN"
      ]
     },
     "execution_count": 7,
     "metadata": {},
     "output_type": "execute_result"
    }
   ],
   "source": [
    "gdp_df.tail()"
   ]
  },
  {
   "cell_type": "code",
   "execution_count": 8,
   "id": "479cbd3f-a686-49f8-b8c4-9464d568dea8",
   "metadata": {},
   "outputs": [
    {
     "data": {
      "text/plain": [
       "<bound method DataFrame.info of      Country or Area  Year        Value  Value Footnotes\n",
       "0        Afghanistan  2023  1992.424394              NaN\n",
       "1        Afghanistan  2022  1981.710168              NaN\n",
       "2        Afghanistan  2021  2144.166570              NaN\n",
       "3        Afghanistan  2020  2769.685745              NaN\n",
       "4        Afghanistan  2019  2927.245144              NaN\n",
       "...              ...   ...          ...              ...\n",
       "8214        Zimbabwe  1994  3965.730986              NaN\n",
       "8215        Zimbabwe  1993  3634.750494              NaN\n",
       "8216        Zimbabwe  1992  3649.891947              NaN\n",
       "8217        Zimbabwe  1991  4126.405247              NaN\n",
       "8218        Zimbabwe  1990  4013.299059              NaN\n",
       "\n",
       "[8219 rows x 4 columns]>"
      ]
     },
     "execution_count": 8,
     "metadata": {},
     "output_type": "execute_result"
    }
   ],
   "source": [
    "gdp_df.info"
   ]
  },
  {
   "cell_type": "code",
   "execution_count": 9,
   "id": "f379746b-874f-4d3d-839d-8e990a9f4039",
   "metadata": {},
   "outputs": [
    {
     "data": {
      "text/plain": [
       "str"
      ]
     },
     "execution_count": 9,
     "metadata": {},
     "output_type": "execute_result"
    }
   ],
   "source": [
    "type('Country or Area')"
   ]
  },
  {
   "cell_type": "code",
   "execution_count": 10,
   "id": "fb72142d-6293-4fb3-98f0-fd6e147fdd55",
   "metadata": {},
   "outputs": [
    {
     "data": {
      "text/plain": [
       "str"
      ]
     },
     "execution_count": 10,
     "metadata": {},
     "output_type": "execute_result"
    }
   ],
   "source": [
    "type('Year')"
   ]
  },
  {
   "cell_type": "code",
   "execution_count": 11,
   "id": "e7459259-3787-4b4c-be4b-a513ed1e9979",
   "metadata": {},
   "outputs": [
    {
     "data": {
      "text/plain": [
       "str"
      ]
     },
     "execution_count": 11,
     "metadata": {},
     "output_type": "execute_result"
    }
   ],
   "source": [
    "type('Value')"
   ]
  },
  {
   "cell_type": "code",
   "execution_count": 12,
   "id": "956fb880-d12c-477e-83e8-fa0a9786ef33",
   "metadata": {},
   "outputs": [
    {
     "data": {
      "text/plain": [
       "str"
      ]
     },
     "execution_count": 12,
     "metadata": {},
     "output_type": "execute_result"
    }
   ],
   "source": [
    "type('Value Footnotes')"
   ]
  },
  {
   "cell_type": "code",
   "execution_count": 13,
   "id": "25c1929c-587c-45cc-bf09-3cd37e5e4d47",
   "metadata": {},
   "outputs": [
    {
     "data": {
      "text/plain": [
       "pandas.core.frame.DataFrame"
      ]
     },
     "execution_count": 13,
     "metadata": {},
     "output_type": "execute_result"
    }
   ],
   "source": [
    "type(gdp_df)"
   ]
  },
  {
   "cell_type": "markdown",
   "id": "728cd96e-d530-4ddc-a298-b1218d1cdc93",
   "metadata": {},
   "source": [
    "5. How many rows and columns are in `gdp_df`? What are the data types of each column?"
   ]
  },
  {
   "cell_type": "markdown",
   "id": "6710f13e-c912-40cd-b2aa-2a6e56ea963d",
   "metadata": {},
   "source": [
    "8219 rows, 4 columns; Country or Area = Str; Year = Str (looks like Int); Value = Str (looks like Float); Value Footnotes = Str (says it's NaN)"
   ]
  },
  {
   "cell_type": "markdown",
   "id": "6cc07c62-1a58-4460-affa-0635d5c2190e",
   "metadata": {},
   "source": [
    "6. Drop the `Value Footnotes` column and rename the remaining three to 'Country', 'Year', and 'GDP_Per_Capita'."
   ]
  },
  {
   "cell_type": "code",
   "execution_count": 17,
   "id": "92534803-32f6-44b0-a308-51aba463cdeb",
   "metadata": {},
   "outputs": [],
   "source": [
    "gdp_df = gdp_df.rename(columns={'Country or Area': 'Country', 'Year': 'Year', 'Value': 'GDP_Per_Capita'})\n",
    "gdp_df = gdp_df.drop('Value Footnotes', axis=1)"
   ]
  },
  {
   "cell_type": "markdown",
   "id": "7f469273-2d20-4e0b-b28f-2670648fc35d",
   "metadata": {},
   "source": [
    "7. How many countries have data for all years? Which countries are missing many years of data? Look at the number of observations per year. What do you notice? \n"
   ]
  },
  {
   "cell_type": "markdown",
   "id": "4bbd69b5-607b-4434-b382-1b0805da16c6",
   "metadata": {},
   "source": [
    "233 countries have data for all years.  The following countries are missing > 10 years worth of data:\n",
    "\n",
    "Virgin Islands                                        \n",
    "Cayman Islands                                        \n",
    "Faroe Islands                                         \n",
    "Kosovo                                                \n",
    "Sint Maarten (Dutch part)                             \n",
    "Turks and Caicos Islands                              \n",
    "Djibouti     \n",
    "\n",
    "One pattern that emerges from this is that 5 of the 7 countries which are missing significant amounts of data are island nations.  "
   ]
  },
  {
   "cell_type": "code",
   "execution_count": 20,
   "id": "ef7004fa-0b0d-403c-ad1a-8178fa39f1da",
   "metadata": {},
   "outputs": [
    {
     "data": {
      "text/plain": [
       "Country\n",
       "Latvia                                                34\n",
       "North America                                         34\n",
       "Mongolia                                              34\n",
       "Morocco                                               34\n",
       "Mozambique                                            34\n",
       "Myanmar                                               34\n",
       "Namibia                                               34\n",
       "Nauru                                                 34\n",
       "Nepal                                                 34\n",
       "Netherlands                                           34\n",
       "New Zealand                                           34\n",
       "Nicaragua                                             34\n",
       "Niger                                                 34\n",
       "Nigeria                                               34\n",
       "North Macedonia                                       34\n",
       "Middle income                                         34\n",
       "Norway                                                34\n",
       "OECD members                                          34\n",
       "Oman                                                  34\n",
       "Other small states                                    34\n",
       "Pacific island small states                           34\n",
       "Pakistan                                              34\n",
       "Palau                                                 34\n",
       "Panama                                                34\n",
       "Papua New Guinea                                      34\n",
       "Paraguay                                              34\n",
       "Peru                                                  34\n",
       "Philippines                                           34\n",
       "Moldova                                               34\n",
       "Middle East & North Africa (IDA & IBRD)               34\n",
       "Lao PDR                                               34\n",
       "Luxembourg                                            34\n",
       "Latin America & Caribbean                             34\n",
       "Latin America & Caribbean (excluding high income)     34\n",
       "Latin America & Caribbean (IDA & IBRD)                34\n",
       "Africa Eastern and Southern                           34\n",
       "Least developed countries: UN classification          34\n",
       "Lesotho                                               34\n",
       "Liberia                                               34\n",
       "Libya                                                 34\n",
       "Lithuania                                             34\n",
       "Low & middle income                                   34\n",
       "Low income                                            34\n",
       "Lower middle income                                   34\n",
       "Macao SAR, China                                      34\n",
       "Middle East & North Africa (excluding high income)    34\n",
       "Madagascar                                            34\n",
       "Malawi                                                34\n",
       "Malaysia                                              34\n",
       "Maldives                                              34\n",
       "Mali                                                  34\n",
       "Malta                                                 34\n",
       "Marshall Islands                                      34\n",
       "Mauritania                                            34\n",
       "Mauritius                                             34\n",
       "Mexico                                                34\n",
       "Micronesia                                            34\n",
       "Middle East & North Africa                            34\n",
       "Poland                                                34\n",
       "Portugal                                              34\n",
       "Post-demographic dividend                             34\n",
       "Turkmenistan                                          34\n",
       "Sweden                                                34\n",
       "Switzerland                                           34\n",
       "TÃ¼rkiye                                              34\n",
       "Tajikistan                                            34\n",
       "Tanzania                                              34\n",
       "Thailand                                              34\n",
       "The Bahamas                                           34\n",
       "The Gambia                                            34\n",
       "Timor-Leste                                           34\n",
       "Togo                                                  34\n",
       "Trinidad and Tobago                                   34\n",
       "Tunisia                                               34\n",
       "Tuvalu                                                34\n",
       "Pre-demographic dividend                              34\n",
       "Uganda                                                34\n",
       "Ukraine                                               34\n",
       "United Arab Emirates                                  34\n",
       "United Kingdom                                        34\n",
       "United States                                         34\n",
       "Upper middle income                                   34\n",
       "Uruguay                                               34\n",
       "Uzbekistan                                            34\n",
       "Vanuatu                                               34\n",
       "Viet Nam                                              34\n",
       "World                                                 34\n",
       "Zambia                                                34\n",
       "Suriname                                              34\n",
       "Sudan                                                 34\n",
       "Sub-Saharan Africa (IDA & IBRD)                       34\n",
       "Sub-Saharan Africa (excluding high income)            34\n",
       "Puerto Rico                                           34\n",
       "Qatar                                                 34\n",
       "Romania                                               34\n",
       "Russia                                                34\n",
       "Rwanda                                                34\n",
       "SÃ£o TomÃ© and Principe                               34\n",
       "Samoa                                                 34\n",
       "Saudi Arabia                                          34\n",
       "Senegal                                               34\n",
       "Seychelles                                            34\n",
       "Sierra Leone                                          34\n",
       "Singapore                                             34\n",
       "Slovak Republic                                       34\n",
       "Slovenia                                              34\n",
       "Small states                                          34\n",
       "Solomon Islands                                       34\n",
       "South Africa                                          34\n",
       "South Asia                                            34\n",
       "South Asia (IDA & IBRD)                               34\n",
       "Spain                                                 34\n",
       "Sri Lanka                                             34\n",
       "St. Kitts and Nevis                                   34\n",
       "St. Lucia                                             34\n",
       "St. Vincent and the Grenadines                        34\n",
       "Sub-Saharan Africa                                    34\n",
       "Late-demographic dividend                             34\n",
       "Zimbabwe                                              34\n",
       "Kyrgyz Republic                                       34\n",
       "Burkina Faso                                          34\n",
       "CÃ´te d'Ivoire                                        34\n",
       "Cabo Verde                                            34\n",
       "Cambodia                                              34\n",
       "Cameroon                                              34\n",
       "Canada                                                34\n",
       "Caribbean small states                                34\n",
       "Central African Republic                              34\n",
       "Central Europe and the Baltics                        34\n",
       "Chad                                                  34\n",
       "Chile                                                 34\n",
       "China                                                 34\n",
       "Colombia                                              34\n",
       "Comoros                                               34\n",
       "Congo                                                 34\n",
       "Costa Rica                                            34\n",
       "Croatia                                               34\n",
       "Cyprus                                                34\n",
       "Czechia                                               34\n",
       "Dem. Rep. Congo                                       34\n",
       "Denmark                                               34\n",
       "Kuwait                                                34\n",
       "Dominican Republic                                    34\n",
       "Early-demographic dividend                            34\n",
       "East Asia & Pacific                                   34\n",
       "East Asia & Pacific (excluding high income)           34\n",
       "Burundi                                               34\n",
       "Bulgaria                                              34\n",
       "Ecuador                                               34\n",
       "Brunei                                                34\n",
       "Africa Western and Central                            34\n",
       "Albania                                               34\n",
       "Algeria                                               34\n",
       "Andorra                                               34\n",
       "Angola                                                34\n",
       "Antigua and Barbuda                                   34\n",
       "Arab World                                            34\n",
       "Argentina                                             34\n",
       "Armenia                                               34\n",
       "Aruba                                                 34\n",
       "Australia                                             34\n",
       "Austria                                               34\n",
       "Azerbaijan                                            34\n",
       "Bahrain                                               34\n",
       "Bangladesh                                            34\n",
       "Barbados                                              34\n",
       "Belarus                                               34\n",
       "Belgium                                               34\n",
       "Belize                                                34\n",
       "Benin                                                 34\n",
       "Bermuda                                               34\n",
       "Bolivia                                               34\n",
       "Bosnia and Herzegovina                                34\n",
       "Botswana                                              34\n",
       "Brazil                                                34\n",
       "East Asia & Pacific (IDA & IBRD)                      34\n",
       "Dominica                                              34\n",
       "Egypt                                                 34\n",
       "Guinea                                                34\n",
       "Guyana                                                34\n",
       "El Salvador                                           34\n",
       "Heavily indebted poor countries (HIPC)                34\n",
       "High income                                           34\n",
       "Honduras                                              34\n",
       "Hong Kong SAR, China                                  34\n",
       "Hungary                                               34\n",
       "IBRD only                                             34\n",
       "Iceland                                               34\n",
       "IDA & IBRD total                                      34\n",
       "IDA blend                                             34\n",
       "IDA only                                              34\n",
       "IDA total                                             34\n",
       "India                                                 34\n",
       "Indonesia                                             34\n",
       "Iran                                                  34\n",
       "Iraq                                                  34\n",
       "Ireland                                               34\n",
       "Israel                                                34\n",
       "Italy                                                 34\n",
       "Jamaica                                               34\n",
       "Japan                                                 34\n",
       "Jordan                                                34\n",
       "Kazakhstan                                            34\n",
       "Kenya                                                 34\n",
       "Kiribati                                              34\n",
       "Korea                                                 34\n",
       "Guinea-Bissau                                         34\n",
       "Haiti                                                 34\n",
       "Europe & Central Asia                                 34\n",
       "Europe & Central Asia (excluding high income)         34\n",
       "European Union                                        34\n",
       "Ethiopia                                              34\n",
       "Eswatini                                              34\n",
       "Estonia                                               34\n",
       "Guatemala                                             34\n",
       "Fiji                                                  34\n",
       "Finland                                               34\n",
       "Fragile and conflict affected situations              34\n",
       "Euro area                                             34\n",
       "France                                                34\n",
       "Gabon                                                 34\n",
       "Georgia                                               34\n",
       "Germany                                               34\n",
       "Ghana                                                 34\n",
       "Greece                                                34\n",
       "Equatorial Guinea                                     34\n",
       "Grenada                                               34\n",
       "Europe & Central Asia (IDA & IBRD)                    34\n",
       "Bhutan                                                33\n",
       "Syrian Arab Republic                                  33\n",
       "Somalia                                               33\n",
       "Tonga                                                 33\n",
       "Lebanon                                               33\n",
       "Greenland                                             32\n",
       "West Bank and Gaza                                    30\n",
       "Serbia                                                29\n",
       "Montenegro                                            27\n",
       "San Marino                                            26\n",
       "CuraÃ§ao                                              24\n",
       "Afghanistan                                           24\n",
       "Virgin Islands                                        21\n",
       "Cayman Islands                                        18\n",
       "Faroe Islands                                         16\n",
       "Kosovo                                                16\n",
       "Sint Maarten (Dutch part)                             15\n",
       "Turks and Caicos Islands                              13\n",
       "Djibouti                                              11\n",
       "Name: count, dtype: int64"
      ]
     },
     "execution_count": 20,
     "metadata": {},
     "output_type": "execute_result"
    }
   ],
   "source": [
    "##counting the number of years per country value\n",
    "pd.set_option('display.max_rows', None)\n",
    "gdp_df['Country'].value_counts()"
   ]
  },
  {
   "cell_type": "code",
   "execution_count": 21,
   "id": "2bdb9fa4-c6f1-4d88-aefb-e09569fa0c83",
   "metadata": {},
   "outputs": [
    {
     "data": {
      "text/plain": [
       "Year\n",
       "2021    247\n",
       "2020    247\n",
       "2019    247\n",
       "2018    247\n",
       "2017    247\n",
       "2016    247\n",
       "2015    247\n",
       "2014    247\n",
       "2013    247\n",
       "2012    246\n",
       "2022    246\n",
       "2011    246\n",
       "2010    245\n",
       "2009    245\n",
       "2008    244\n",
       "2007    242\n",
       "2006    242\n",
       "2005    241\n",
       "2004    241\n",
       "2003    241\n",
       "2002    241\n",
       "2000    240\n",
       "2023    240\n",
       "2001    240\n",
       "1999    238\n",
       "1998    238\n",
       "1997    238\n",
       "1996    236\n",
       "1995    236\n",
       "1994    235\n",
       "1993    234\n",
       "1992    234\n",
       "1991    234\n",
       "1990    233\n",
       "Name: count, dtype: int64"
      ]
     },
     "execution_count": 21,
     "metadata": {},
     "output_type": "execute_result"
    }
   ],
   "source": [
    "##counting number of countries per year value\n",
    "pd.set_option('display.max_rows', None)\n",
    "gdp_df['Year'].value_counts()"
   ]
  },
  {
   "cell_type": "markdown",
   "id": "f9c31c22-bf62-4e06-a731-de3824f31e43",
   "metadata": {},
   "source": [
    "8. In this question, you're going to create some plots to show the distribution of GDP per capita for the year 2020. Go to the Python Graph Gallery (https://www.python-graph-gallery.com/) and look at the different types of plots under the Distribution section. Create a histogram, a density plot, a boxplot, and a violin plot. What do you notice when you look at these plots? How do the plots compare and what information can you get out of one type that you can't necessarily get out of the others?\n"
   ]
  },
  {
   "cell_type": "markdown",
   "id": "1366c998-20dc-4432-9bb4-5f5e672514a2",
   "metadata": {},
   "source": [
    "The distribution of the data is skewed towards the lower end values.  The violin plot is basically the the density plot turned upright and then mirrored.  The outliers are significantly more visible in the boxplot.  "
   ]
  },
  {
   "cell_type": "code",
   "execution_count": 24,
   "id": "af6cbe02-360c-4679-81fe-7d71fcb0a608",
   "metadata": {},
   "outputs": [
    {
     "name": "stdout",
     "output_type": "stream",
     "text": [
      "                                                Country  Year  GDP_Per_Capita\n",
      "3                                           Afghanistan  2020     2769.685745\n",
      "27                          Africa Eastern and Southern  2020     3861.111238\n",
      "61                           Africa Western and Central  2020     4622.731427\n",
      "95                                              Albania  2020    14650.395929\n",
      "129                                             Algeria  2020    14194.155748\n",
      "163                                             Andorra  2020    55488.490299\n",
      "197                                              Angola  2020     7556.967928\n",
      "231                                 Antigua and Barbuda  2020    23915.161984\n",
      "265                                          Arab World  2020    15316.627200\n",
      "299                                           Argentina  2020    23877.093140\n",
      "333                                             Armenia  2020    15052.935979\n",
      "367                                               Aruba  2020    28521.688852\n",
      "401                                           Australia  2020    57023.667816\n",
      "435                                             Austria  2020    60295.495150\n",
      "469                                          Azerbaijan  2020    19126.094903\n",
      "503                                             Bahrain  2020    53814.245259\n",
      "537                                          Bangladesh  2020     7015.197928\n",
      "571                                            Barbados  2020    15749.038017\n",
      "605                                             Belarus  2020    26731.495381\n",
      "639                                             Belgium  2020    57307.020616\n",
      "673                                              Belize  2020    10032.544498\n",
      "707                                               Benin  2020     3317.859722\n",
      "741                                             Bermuda  2020    87894.401174\n",
      "774                                              Bhutan  2020    12979.936945\n",
      "808                                             Bolivia  2020     9000.975648\n",
      "842                              Bosnia and Herzegovina  2020    16732.345440\n",
      "876                                            Botswana  2020    16289.420216\n",
      "910                                              Brazil  2020    17327.515726\n",
      "944                                              Brunei  2020    80280.897948\n",
      "978                                            Bulgaria  2020    26944.722098\n",
      "1012                                       Burkina Faso  2020     2380.931718\n",
      "1046                                            Burundi  2020      833.920257\n",
      "1080                                     CÃ´te d'Ivoire  2020     5787.815333\n",
      "1114                                         Cabo Verde  2020     7207.868540\n",
      "1148                                           Cambodia  2020     6128.782438\n",
      "1182                                           Cameroon  2020     4763.481944\n",
      "1216                                             Canada  2020    54006.584430\n",
      "1250                             Caribbean small states  2020    18259.347614\n",
      "1284                                     Cayman Islands  2020    72149.326889\n",
      "1302                           Central African Republic  2020     1136.570530\n",
      "1336                     Central Europe and the Baltics  2020    36971.037059\n",
      "1370                                               Chad  2020     1780.563022\n",
      "1404                                              Chile  2020    26282.891769\n",
      "1438                                              China  2020    18833.784703\n",
      "1472                                           Colombia  2020    15833.212255\n",
      "1506                                            Comoros  2020     3441.070412\n",
      "1540                                              Congo  2020     6350.509134\n",
      "1574                                         Costa Rica  2020    22220.651526\n",
      "1608                                            Croatia  2020    32466.108235\n",
      "1642                                           CuraÃ§ao  2020    23751.617219\n",
      "1666                                             Cyprus  2020    44166.984375\n",
      "1700                                            Czechia  2020    45079.201309\n",
      "1734                                    Dem. Rep. Congo  2020     1277.632863\n",
      "1768                                            Denmark  2020    65145.674174\n",
      "1802                                           Djibouti  2020     5773.207493\n",
      "1813                                           Dominica  2020    14508.922643\n",
      "1847                                 Dominican Republic  2020    19721.320724\n",
      "1881                         Early-demographic dividend  2020    10084.741744\n",
      "1915                                East Asia & Pacific  2020    19961.450690\n",
      "1949        East Asia & Pacific (excluding high income)  2020    16562.909187\n",
      "1983                   East Asia & Pacific (IDA & IBRD)  2020    16748.405600\n",
      "2017                                            Ecuador  2020    12425.017545\n",
      "2051                                              Egypt  2020    15309.235988\n",
      "2085                                        El Salvador  2020     9692.449316\n",
      "2119                                  Equatorial Guinea  2020    17089.153726\n",
      "2153                                            Estonia  2020    41303.412663\n",
      "2187                                           Eswatini  2020     9633.192244\n",
      "2221                                           Ethiopia  2020     2516.548947\n",
      "2255                                          Euro area  2020    50925.025056\n",
      "2289                              Europe & Central Asia  2020    39602.827349\n",
      "2323      Europe & Central Asia (excluding high income)  2020    20307.653979\n",
      "2357                 Europe & Central Asia (IDA & IBRD)  2020    27879.448912\n",
      "2391                                     European Union  2020    48656.564559\n",
      "2425                                      Faroe Islands  2020    65131.613376\n",
      "2441                                               Fiji  2020    11254.969751\n",
      "2475                                            Finland  2020    55343.383654\n",
      "2509           Fragile and conflict affected situations  2020     5271.014406\n",
      "2543                                             France  2020    49266.751899\n",
      "2577                                              Gabon  2020    18681.484074\n",
      "2611                                            Georgia  2020    17031.144028\n",
      "2645                                            Germany  2020    60288.235015\n",
      "2679                                              Ghana  2020     6412.685418\n",
      "2713                                             Greece  2020    30459.625043\n",
      "2745                                          Greenland  2020    67560.253903\n",
      "2779                                            Grenada  2020    14656.720877\n",
      "2813                                          Guatemala  2020    11101.009624\n",
      "2847                                             Guinea  2020     3630.993306\n",
      "2881                                      Guinea-Bissau  2020     2360.531279\n",
      "2915                                             Guyana  2020    19234.129575\n",
      "2949                                              Haiti  2020     3229.475544\n",
      "2983             Heavily indebted poor countries (HIPC)  2020     2942.504593\n",
      "3017                                        High income  2020    52142.094275\n",
      "3051                                           Honduras  2020     5603.263984\n",
      "3085                               Hong Kong SAR, China  2020    61328.549458\n",
      "3119                                            Hungary  2020    35616.522729\n",
      "3153                                          IBRD only  2020    15267.304121\n",
      "3187                                            Iceland  2020    59575.190393\n",
      "3221                                   IDA & IBRD total  2020    12357.096135\n",
      "3255                                          IDA blend  2020     5400.317046\n",
      "3289                                           IDA only  2020     3965.588843\n",
      "3323                                          IDA total  2020     4428.815194\n",
      "3357                                              India  2020     7399.530681\n",
      "3391                                          Indonesia  2020    12388.544927\n",
      "3425                                               Iran  2020    14397.153571\n",
      "3459                                               Iraq  2020    12827.634539\n",
      "3493                                            Ireland  2020   102989.787335\n",
      "3527                                             Israel  2020    42936.707890\n",
      "3561                                              Italy  2020    45463.920201\n",
      "3595                                            Jamaica  2020     9178.320778\n",
      "3629                                              Japan  2020    43042.552835\n",
      "3663                                             Jordan  2020     9022.639450\n",
      "3697                                         Kazakhstan  2020    32011.549150\n",
      "3731                                              Kenya  2020     5057.401155\n",
      "3765                                           Kiribati  2020     2860.750955\n",
      "3799                                              Korea  2020    45976.534578\n",
      "3833                                             Kosovo  2020    11137.496635\n",
      "3849                                             Kuwait  2020    49124.540622\n",
      "3883                                    Kyrgyz Republic  2020     5537.795885\n",
      "3917                                            Lao PDR  2020     7995.595025\n",
      "3951                          Late-demographic dividend  2020    20509.944471\n",
      "3985                          Latin America & Caribbean  2020    17479.537325\n",
      "4019  Latin America & Caribbean (excluding high income)  2020    16801.195093\n",
      "4053             Latin America & Caribbean (IDA & IBRD)  2020    17390.281542\n",
      "4087                                             Latvia  2020    34195.137307\n",
      "4121       Least developed countries: UN classification  2020     3660.930706\n",
      "4154                                            Lebanon  2020    12507.436637\n",
      "4188                                            Lesotho  2020     2517.110419\n",
      "4222                                            Liberia  2020     1497.376924\n",
      "4256                                              Libya  2020     9976.037403\n",
      "4290                                          Lithuania  2020    43291.466226\n",
      "4324                                Low & middle income  2020    11383.872506\n",
      "4358                                         Low income  2020     2334.506832\n",
      "4392                                Lower middle income  2020     7245.738495\n",
      "4426                                         Luxembourg  2020   128256.560341\n",
      "4460                                   Macao SAR, China  2020    59791.425264\n",
      "4494                                         Madagascar  2020     1551.125580\n",
      "4528                                             Malawi  2020     1656.439852\n",
      "4562                                           Malaysia  2020    29200.452632\n",
      "4596                                           Maldives  2020    14242.975070\n",
      "4630                                               Mali  2020     2348.881724\n",
      "4664                                              Malta  2020    50281.730929\n",
      "4698                                   Marshall Islands  2020     6417.184412\n",
      "4732                                         Mauritania  2020     5963.235503\n",
      "4766                                          Mauritius  2020    21994.665985\n",
      "4800                                             Mexico  2020    19722.790896\n",
      "4834                                         Micronesia  2020     3839.258969\n",
      "4868                         Middle East & North Africa  2020    17455.319397\n",
      "4902  Middle East & North Africa (excluding high inc...  2020    12002.295607\n",
      "4936            Middle East & North Africa (IDA & IBRD)  2020    12080.212224\n",
      "4970                                      Middle income  2020    12464.516778\n",
      "5004                                            Moldova  2020    13559.260022\n",
      "5038                                           Mongolia  2020    14801.342083\n",
      "5072                                         Montenegro  2020    21200.284749\n",
      "5099                                            Morocco  2020     8054.562988\n",
      "5133                                         Mozambique  2020     1466.124765\n",
      "5167                                            Myanmar  2020     5926.834502\n",
      "5201                                            Namibia  2020     9652.248272\n",
      "5235                                              Nauru  2020    11441.258450\n",
      "5269                                              Nepal  2020     4412.542044\n",
      "5303                                        Netherlands  2020    64803.640102\n",
      "5337                                        New Zealand  2020    46055.809283\n",
      "5371                                          Nicaragua  2020     6501.687499\n",
      "5405                                              Niger  2020     1615.692724\n",
      "5439                                            Nigeria  2020     5410.693555\n",
      "5473                                      North America  2020    65982.871885\n",
      "5507                                    North Macedonia  2020    20952.548613\n",
      "5541                                             Norway  2020    86018.320698\n",
      "5575                                       OECD members  2020    47881.745612\n",
      "5609                                               Oman  2020    37560.599871\n",
      "5643                                 Other small states  2020    25540.231882\n",
      "5677                        Pacific island small states  2020     6505.153586\n",
      "5711                                           Pakistan  2020     5135.014593\n",
      "5745                                              Palau  2020    18160.256720\n",
      "5779                                             Panama  2020    26881.798705\n",
      "5813                                   Papua New Guinea  2020     4077.631322\n",
      "5847                                           Paraguay  2020    14991.660620\n",
      "5881                                               Peru  2020    13612.021942\n",
      "5915                                        Philippines  2020     8455.184571\n",
      "5949                                             Poland  2020    37436.116981\n",
      "5983                                           Portugal  2020    36818.984059\n",
      "6017                          Post-demographic dividend  2020    53031.987415\n",
      "6051                           Pre-demographic dividend  2020     3989.088689\n",
      "6085                                        Puerto Rico  2020    40171.790659\n",
      "6119                                              Qatar  2020   103061.913414\n",
      "6153                                            Romania  2020    35452.091069\n",
      "6187                                             Russia  2020    36746.375000\n",
      "6221                                             Rwanda  2020     2518.165298\n",
      "6255                            SÃ£o TomÃ© and Principe  2020     5742.947249\n",
      "6289                                              Samoa  2020     6745.306396\n",
      "6322                                         San Marino  2020    55998.071099\n",
      "6349                                       Saudi Arabia  2020    51782.568653\n",
      "6383                                            Senegal  2020     4018.041293\n",
      "6417                                             Serbia  2020    21459.710155\n",
      "6446                                         Seychelles  2020    30056.199430\n",
      "6480                                       Sierra Leone  2020     2751.966655\n",
      "6514                                          Singapore  2020   115304.149459\n",
      "6548                          Sint Maarten (Dutch part)  2020    39265.761679\n",
      "6563                                    Slovak Republic  2020    36168.746874\n",
      "6597                                           Slovenia  2020    42435.932535\n",
      "6631                                       Small states  2020    21865.495176\n",
      "6665                                    Solomon Islands  2020     2515.128328\n",
      "6699                                            Somalia  2020     1396.053436\n",
      "6732                                       South Africa  2020    13266.785815\n",
      "6766                                         South Asia  2020     7023.010090\n",
      "6800                            South Asia (IDA & IBRD)  2020     7023.010090\n",
      "6834                                              Spain  2020    41510.454322\n",
      "6868                                          Sri Lanka  2020    13886.651373\n",
      "6902                                St. Kitts and Nevis  2020    26707.106933\n",
      "6936                                          St. Lucia  2020    17141.938071\n",
      "6970                     St. Vincent and the Grenadines  2020    15677.587467\n",
      "7004                                 Sub-Saharan Africa  2020     4169.357359\n",
      "7038         Sub-Saharan Africa (excluding high income)  2020     4167.182143\n",
      "7072                    Sub-Saharan Africa (IDA & IBRD)  2020     4169.357359\n",
      "7106                                              Sudan  2020     3401.249756\n",
      "7140                                           Suriname  2020    19091.361718\n",
      "7174                                             Sweden  2020    59518.689903\n",
      "7208                                        Switzerland  2020    77197.646592\n",
      "7241                               Syrian Arab Republic  2020     4633.349518\n",
      "7275                                           TÃ¼rkiye  2020    28352.925947\n",
      "7309                                         Tajikistan  2020     3724.748959\n",
      "7343                                           Tanzania  2020     3449.821533\n",
      "7377                                           Thailand  2020    19956.547351\n",
      "7411                                        The Bahamas  2020    25457.080388\n",
      "7445                                         The Gambia  2020     2702.319195\n",
      "7479                                        Timor-Leste  2020     6595.054593\n",
      "7513                                               Togo  2020     2490.052938\n",
      "7546                                              Tonga  2020     6995.317324\n",
      "7580                                Trinidad and Tobago  2020    31168.345546\n",
      "7614                                            Tunisia  2020    11889.291831\n",
      "7648                                       Turkmenistan  2020    15791.177586\n",
      "7682                           Turks and Caicos Islands  2020    19813.406021\n",
      "7695                                             Tuvalu  2020     5154.454297\n",
      "7729                                             Uganda  2020     2678.009072\n",
      "7763                                            Ukraine  2020    17092.539062\n",
      "7797                               United Arab Emirates  2020    65784.676939\n",
      "7831                                     United Kingdom  2020    46913.885570\n",
      "7865                                      United States  2020    67352.387139\n",
      "7899                                Upper middle income  2020    17998.355288\n",
      "7933                                            Uruguay  2020    27871.600479\n",
      "7967                                         Uzbekistan  2020     8727.411049\n",
      "8001                                            Vanuatu  2020     3259.995437\n",
      "8035                                           Viet Nam  2020    11851.396569\n",
      "8068                                     Virgin Islands  2020    45055.782930\n",
      "8090                                 West Bank and Gaza  2020     5423.682547\n",
      "8120                                              World  2020    18600.986362\n",
      "8154                                             Zambia  2020     3391.595412\n",
      "8188                                           Zimbabwe  2020     2987.269823\n"
     ]
    }
   ],
   "source": [
    "##filter data into a new variable to contain only 2020 data\n",
    "year_2020 = gdp_df[gdp_df['Year'] == 2020]\n",
    "print(year_2020)"
   ]
  },
  {
   "cell_type": "code",
   "execution_count": 25,
   "id": "25dd2f9b-56c2-43d5-8192-c87cedd26746",
   "metadata": {},
   "outputs": [
    {
     "data": {
      "image/png": "[encoded data removed]",
      "text/plain": [
       "<Figure size 640x480 with 1 Axes>"
      ]
     },
     "metadata": {},
     "output_type": "display_data"
    }
   ],
   "source": [
    "##histogram code\n",
    "sns.histplot(data=year_2020, x=\"GDP_Per_Capita\")\n",
    "plt.show()"
   ]
  },
  {
   "cell_type": "code",
   "execution_count": 53,
   "id": "1117192d-2eaa-4260-b4dc-cf658ac816ae",
   "metadata": {},
   "outputs": [
    {
     "data": {
      "image/png": "[encoded data removed]",
      "text/plain": [
       "<Figure size 640x480 with 1 Axes>"
      ]
     },
     "metadata": {},
     "output_type": "display_data"
    }
   ],
   "source": [
    "##density plot\n",
    "sns.kdeplot(year_2020['GDP_Per_Capita'])\n",
    "plt.show()"
   ]
  },
  {
   "cell_type": "code",
   "execution_count": 59,
   "id": "78c41ecb-f8bb-4dbd-827f-14485134181d",
   "metadata": {},
   "outputs": [
    {
     "data": {
      "image/png": "[encoded data removed]",
      "text/plain": [
       "<Figure size 640x480 with 1 Axes>"
      ]
     },
     "metadata": {},
     "output_type": "display_data"
    }
   ],
   "source": [
    "##boxplot\n",
    "sns.boxplot( x=year_2020['Year'], y=year_2020['GDP_Per_Capita'])\n",
    "plt.show()"
   ]
  },
  {
   "cell_type": "code",
   "execution_count": 61,
   "id": "d14e514e-0f0e-40f7-a692-206c49e9ca22",
   "metadata": {},
   "outputs": [
    {
     "data": {
      "image/png": "[encoded data removed]",
      "text/plain": [
       "<Figure size 640x480 with 1 Axes>"
      ]
     },
     "metadata": {},
     "output_type": "display_data"
    }
   ],
   "source": [
    "##violin plot\n",
    "sns.violinplot(x=year_2020['Year'], y=year_2020['GDP_Per_Capita'])\n",
    "plt.show()"
   ]
  },
  {
   "cell_type": "markdown",
   "id": "e5a14a06-7fa8-410d-8948-e859cb3b9df0",
   "metadata": {},
   "source": [
    "9. What was the median GDP per capita value in 2020?"
   ]
  },
  {
   "cell_type": "markdown",
   "id": "940ae4f1-45bf-4f1e-8887-f9a1c8321e9a",
   "metadata": {},
   "source": [
    "Median GDP in 2020: 15309.24"
   ]
  },
  {
   "cell_type": "code",
   "execution_count": 72,
   "id": "1f62ba44-ce48-487d-8f65-2d793585e3c8",
   "metadata": {},
   "outputs": [
    {
     "name": "stdout",
     "output_type": "stream",
     "text": [
      "15309.23598817024\n"
     ]
    }
   ],
   "source": [
    "print(year_2020['GDP_Per_Capita'].median())"
   ]
  },
  {
   "cell_type": "markdown",
   "id": "5728e33d-874b-4d6a-b9e5-b638d1f4a791",
   "metadata": {},
   "source": [
    "10. For this question, you're going to create some visualizations to compare GDP per capita values for the years 1990, 2000, 2010, and 2020. Start by subsetting your data to just these 4 years into a new DataFrame named gdp_decades. Using this, create the following 4 plots:\n",
    "\t* A boxplot\n",
    "\t* A barplot (check out the Barplot with Seaborn section: https://www.python-graph-gallery.com/barplot/#Seaborn)\n",
    "\t* A scatterplot\n",
    "\t* A scatterplot with a trend line overlaid (see this regplot example: https://www.python-graph-gallery.com/42-custom-linear-regression-fit-seaborn)  \n",
    "Comment on what you observe has happened to GDP values over time and the relative strengths and weaknesses of each type of plot.\n"
   ]
  },
  {
   "cell_type": "code",
   "execution_count": 80,
   "id": "d30d6a2b-0ffb-4b51-9b3f-0eb14230f862",
   "metadata": {},
   "outputs": [
    {
     "ename": "SyntaxError",
     "evalue": "invalid syntax (3281108034.py, line 3)",
     "output_type": "error",
     "traceback": [
      "\u001b[1;36m  Cell \u001b[1;32mIn[80], line 3\u001b[1;36m\u001b[0m\n\u001b[1;33m    decade_1990 = gdp_df[gdp_df['Year'] >= 1990 and <= 1999]\u001b[0m\n\u001b[1;37m                                                    ^\u001b[0m\n\u001b[1;31mSyntaxError\u001b[0m\u001b[1;31m:\u001b[0m invalid syntax\n"
     ]
    }
   ],
   "source": [
    "year_2020 = gdp_df[gdp_df['Year'] == 2020]\n",
    "\n",
    "\n",
    "## this doesn't work.  Revise, yo!\n",
    "decade_1990 = gdp_df[gdp_df['Year'] >= 1990 and <= 1999]\n",
    "print(decade_1990)"
   ]
  },
  {
   "cell_type": "code",
   "execution_count": null,
   "id": "83019d9f-f5c6-42ef-81aa-dd8338635f64",
   "metadata": {},
   "outputs": [],
   "source": []
  }
 ],
 "metadata": {
  "kernelspec": {
   "display_name": "Python [conda env:base] *",
   "language": "python",
   "name": "conda-base-py"
  },
  "language_info": {
   "codemirror_mode": {
    "name": "ipython",
    "version": 3
   },
   "file_extension": ".py",
   "mimetype": "text/x-python",
   "name": "python",
   "nbconvert_exporter": "python",
   "pygments_lexer": "ipython3",
   "version": "3.12.7"
  }
 },
 "nbformat": 4,
 "nbformat_minor": 5
}
